{
 "cells": [
  {
   "cell_type": "code",
   "execution_count": 14,
   "metadata": {},
   "outputs": [
    {
     "name": "stdout",
     "output_type": "stream",
     "text": [
      "Enter a number inside the box to find out if it is odd, even, or multiple of 4.\n",
      "The number you entered is: 4\n",
      "\n",
      "Result: The number you entered is a multiple of 4.\n",
      "Do you want to run another test? Type \"yes\" or \"no.\"\n",
      "You typed: yes\n",
      "\n",
      "--\n",
      "Enter a number inside the box to find out if it is odd, even, or multiple of 4.\n",
      "The number you entered is: 2\n",
      "\n",
      "Result: The number you entered is an even number.\n",
      "Do you want to run another test? Type \"yes\" or \"no.\"\n",
      "You typed: yes\n",
      "\n",
      "--\n",
      "Enter a number inside the box to find out if it is odd, even, or multiple of 4.\n",
      "The number you entered is: 3\n",
      "\n",
      "Result: The number you entered is an odd number and not a multiple of 4.\n",
      "Do you want to run another test? Type \"yes\" or \"no.\"\n",
      "You typed: no\n",
      "\n",
      "--\n",
      "Thanks for stoppping by, have a nice day!\n"
     ]
    }
   ],
   "source": [
    "def custom_function1():\n",
    "    \"\"\"this function checks if the number entered is even, odd, or multiple of 4.\"\"\"\n",
    "    prompt = 'yes'\n",
    "    while prompt.lower() == 'yes':\n",
    "        print('Enter a number inside the box to find out if it is odd, even, or multiple of 4.')\n",
    "        entered_value = input('The number you entered is: ')\n",
    "        if int(entered_value)%4 == 0:\n",
    "            print('\\nResult: The number you entered is a multiple of 4.')\n",
    "            \n",
    "        elif int(entered_value)%2 == 0:\n",
    "            print('\\nResult: The number you entered is an even number.')\n",
    "            \n",
    "        else:\n",
    "            print('\\nResult: The number you entered is an odd number and not a multiple of 4.')\n",
    "            \n",
    "        print('Do you want to run another test? Type \"yes\" or \"no.\"')\n",
    "        prompt = input('You typed: ')\n",
    "        print('\\n--')\n",
    "    print('Thanks for stoppping by, have a nice day!')\n",
    "\n",
    "custom_function1()"
   ]
  },
  {
   "cell_type": "code",
   "execution_count": 15,
   "metadata": {},
   "outputs": [
    {
     "name": "stdout",
     "output_type": "stream",
     "text": [
      "This will check if the first number entered is a multiple of the second number.\n",
      "\n",
      "What number do you want to check? \n",
      "You entered: 4\n",
      "What number do you want to divide it by? \n",
      "You entered: 2\n",
      "\n",
      "Result: 4 is a multiple of 2\n",
      "Do you want to run another test? Type \"yes\" or \"no.\" \n",
      "You typed: yes\n",
      "\n",
      "--\n",
      "What number do you want to check? \n",
      "You entered: 3\n",
      "What number do you want to divide it by? \n",
      "You entered: 2\n",
      "\n",
      "Result: 3 is NOT a multiple of 2\n",
      "Do you want to run another test? Type \"yes\" or \"no.\" \n",
      "You typed: no\n",
      "\n",
      "--\n",
      "Thanks for stoppping by, have a nice day!\n"
     ]
    }
   ],
   "source": [
    "def custom_function2():\n",
    "    \"\"\"this function checks if the number entered is a multiple of another number\"\"\"\n",
    "    print('This will check if the first number entered is a multiple of the second number.\\n')\n",
    "    prompt = 'yes'\n",
    "\n",
    "    while prompt.lower() == 'yes':\n",
    "        print('What number do you want to check? ')\n",
    "        num = input('You entered: ')\n",
    "        print('What number do you want to divide it by? ')\n",
    "        check = input('You entered: ')\n",
    "        if int(num)%int(check) == 0:\n",
    "            print('\\nResult: ' + num + ' is a multiple of ' + check)\n",
    "        elif int(num)%int(check) != 0:\n",
    "            print('\\nResult: ' + num + ' is NOT a multiple of ' + check)\n",
    "        print('Do you want to run another test? Type \"yes\" or \"no.\" ')\n",
    "        prompt = input('You typed: ')\n",
    "        print('\\n--')\n",
    "    print('Thanks for stoppping by, have a nice day!')\n",
    "\n",
    "custom_function2()"
   ]
  },
  {
   "cell_type": "code",
   "execution_count": null,
   "metadata": {},
   "outputs": [],
   "source": []
  }
 ],
 "metadata": {
  "kernelspec": {
   "display_name": "Python 3",
   "language": "python",
   "name": "python3"
  },
  "language_info": {
   "codemirror_mode": {
    "name": "ipython",
    "version": 3
   },
   "file_extension": ".py",
   "mimetype": "text/x-python",
   "name": "python",
   "nbconvert_exporter": "python",
   "pygments_lexer": "ipython3",
   "version": "3.8.5"
  }
 },
 "nbformat": 4,
 "nbformat_minor": 4
}
